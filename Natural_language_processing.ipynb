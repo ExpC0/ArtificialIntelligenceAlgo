{
  "nbformat": 4,
  "nbformat_minor": 0,
  "metadata": {
    "colab": {
      "provenance": []
    },
    "kernelspec": {
      "name": "python3",
      "display_name": "Python 3"
    },
    "language_info": {
      "name": "python"
    },
    "widgets": {
      "application/vnd.jupyter.widget-state+json": {
        "6b605f2b414b4a7aa59bd87c9d0ca2ae": {
          "model_module": "@jupyter-widgets/controls",
          "model_name": "HBoxModel",
          "model_module_version": "1.5.0",
          "state": {
            "_dom_classes": [],
            "_model_module": "@jupyter-widgets/controls",
            "_model_module_version": "1.5.0",
            "_model_name": "HBoxModel",
            "_view_count": null,
            "_view_module": "@jupyter-widgets/controls",
            "_view_module_version": "1.5.0",
            "_view_name": "HBoxView",
            "box_style": "",
            "children": [
              "IPY_MODEL_e86477f2361948809d00180958f59cc7",
              "IPY_MODEL_22a22e95ac58468daed1bcd96265ed42",
              "IPY_MODEL_6abbd477a72a416c897ee85242e3c9cb"
            ],
            "layout": "IPY_MODEL_fe4538057bbe4dad94292a4f73ee27eb"
          }
        },
        "e86477f2361948809d00180958f59cc7": {
          "model_module": "@jupyter-widgets/controls",
          "model_name": "HTMLModel",
          "model_module_version": "1.5.0",
          "state": {
            "_dom_classes": [],
            "_model_module": "@jupyter-widgets/controls",
            "_model_module_version": "1.5.0",
            "_model_name": "HTMLModel",
            "_view_count": null,
            "_view_module": "@jupyter-widgets/controls",
            "_view_module_version": "1.5.0",
            "_view_name": "HTMLView",
            "description": "",
            "description_tooltip": null,
            "layout": "IPY_MODEL_e56ec36d4f074412ac932514606788bd",
            "placeholder": "​",
            "style": "IPY_MODEL_ad51cf97234b4bc29ae9f910cbf16f76",
            "value": "Filter: 100%"
          }
        },
        "22a22e95ac58468daed1bcd96265ed42": {
          "model_module": "@jupyter-widgets/controls",
          "model_name": "FloatProgressModel",
          "model_module_version": "1.5.0",
          "state": {
            "_dom_classes": [],
            "_model_module": "@jupyter-widgets/controls",
            "_model_module_version": "1.5.0",
            "_model_name": "FloatProgressModel",
            "_view_count": null,
            "_view_module": "@jupyter-widgets/controls",
            "_view_module_version": "1.5.0",
            "_view_name": "ProgressView",
            "bar_style": "success",
            "description": "",
            "description_tooltip": null,
            "layout": "IPY_MODEL_7ca93e96d428490a963a59fe6f1d3b60",
            "max": 4206188,
            "min": 0,
            "orientation": "horizontal",
            "style": "IPY_MODEL_b574094aa6f64f608e3c37e71e4e1158",
            "value": 4206188
          }
        },
        "6abbd477a72a416c897ee85242e3c9cb": {
          "model_module": "@jupyter-widgets/controls",
          "model_name": "HTMLModel",
          "model_module_version": "1.5.0",
          "state": {
            "_dom_classes": [],
            "_model_module": "@jupyter-widgets/controls",
            "_model_module_version": "1.5.0",
            "_model_name": "HTMLModel",
            "_view_count": null,
            "_view_module": "@jupyter-widgets/controls",
            "_view_module_version": "1.5.0",
            "_view_name": "HTMLView",
            "description": "",
            "description_tooltip": null,
            "layout": "IPY_MODEL_4990fc0888ed4658aeb44e7564d90882",
            "placeholder": "​",
            "style": "IPY_MODEL_de73ca93e4f94feb8bfd4736acbb93b2",
            "value": " 4206188/4206188 [00:27&lt;00:00, 187462.64 examples/s]"
          }
        },
        "fe4538057bbe4dad94292a4f73ee27eb": {
          "model_module": "@jupyter-widgets/base",
          "model_name": "LayoutModel",
          "model_module_version": "1.2.0",
          "state": {
            "_model_module": "@jupyter-widgets/base",
            "_model_module_version": "1.2.0",
            "_model_name": "LayoutModel",
            "_view_count": null,
            "_view_module": "@jupyter-widgets/base",
            "_view_module_version": "1.2.0",
            "_view_name": "LayoutView",
            "align_content": null,
            "align_items": null,
            "align_self": null,
            "border": null,
            "bottom": null,
            "display": null,
            "flex": null,
            "flex_flow": null,
            "grid_area": null,
            "grid_auto_columns": null,
            "grid_auto_flow": null,
            "grid_auto_rows": null,
            "grid_column": null,
            "grid_gap": null,
            "grid_row": null,
            "grid_template_areas": null,
            "grid_template_columns": null,
            "grid_template_rows": null,
            "height": null,
            "justify_content": null,
            "justify_items": null,
            "left": null,
            "margin": null,
            "max_height": null,
            "max_width": null,
            "min_height": null,
            "min_width": null,
            "object_fit": null,
            "object_position": null,
            "order": null,
            "overflow": null,
            "overflow_x": null,
            "overflow_y": null,
            "padding": null,
            "right": null,
            "top": null,
            "visibility": null,
            "width": null
          }
        },
        "e56ec36d4f074412ac932514606788bd": {
          "model_module": "@jupyter-widgets/base",
          "model_name": "LayoutModel",
          "model_module_version": "1.2.0",
          "state": {
            "_model_module": "@jupyter-widgets/base",
            "_model_module_version": "1.2.0",
            "_model_name": "LayoutModel",
            "_view_count": null,
            "_view_module": "@jupyter-widgets/base",
            "_view_module_version": "1.2.0",
            "_view_name": "LayoutView",
            "align_content": null,
            "align_items": null,
            "align_self": null,
            "border": null,
            "bottom": null,
            "display": null,
            "flex": null,
            "flex_flow": null,
            "grid_area": null,
            "grid_auto_columns": null,
            "grid_auto_flow": null,
            "grid_auto_rows": null,
            "grid_column": null,
            "grid_gap": null,
            "grid_row": null,
            "grid_template_areas": null,
            "grid_template_columns": null,
            "grid_template_rows": null,
            "height": null,
            "justify_content": null,
            "justify_items": null,
            "left": null,
            "margin": null,
            "max_height": null,
            "max_width": null,
            "min_height": null,
            "min_width": null,
            "object_fit": null,
            "object_position": null,
            "order": null,
            "overflow": null,
            "overflow_x": null,
            "overflow_y": null,
            "padding": null,
            "right": null,
            "top": null,
            "visibility": null,
            "width": null
          }
        },
        "ad51cf97234b4bc29ae9f910cbf16f76": {
          "model_module": "@jupyter-widgets/controls",
          "model_name": "DescriptionStyleModel",
          "model_module_version": "1.5.0",
          "state": {
            "_model_module": "@jupyter-widgets/controls",
            "_model_module_version": "1.5.0",
            "_model_name": "DescriptionStyleModel",
            "_view_count": null,
            "_view_module": "@jupyter-widgets/base",
            "_view_module_version": "1.2.0",
            "_view_name": "StyleView",
            "description_width": ""
          }
        },
        "7ca93e96d428490a963a59fe6f1d3b60": {
          "model_module": "@jupyter-widgets/base",
          "model_name": "LayoutModel",
          "model_module_version": "1.2.0",
          "state": {
            "_model_module": "@jupyter-widgets/base",
            "_model_module_version": "1.2.0",
            "_model_name": "LayoutModel",
            "_view_count": null,
            "_view_module": "@jupyter-widgets/base",
            "_view_module_version": "1.2.0",
            "_view_name": "LayoutView",
            "align_content": null,
            "align_items": null,
            "align_self": null,
            "border": null,
            "bottom": null,
            "display": null,
            "flex": null,
            "flex_flow": null,
            "grid_area": null,
            "grid_auto_columns": null,
            "grid_auto_flow": null,
            "grid_auto_rows": null,
            "grid_column": null,
            "grid_gap": null,
            "grid_row": null,
            "grid_template_areas": null,
            "grid_template_columns": null,
            "grid_template_rows": null,
            "height": null,
            "justify_content": null,
            "justify_items": null,
            "left": null,
            "margin": null,
            "max_height": null,
            "max_width": null,
            "min_height": null,
            "min_width": null,
            "object_fit": null,
            "object_position": null,
            "order": null,
            "overflow": null,
            "overflow_x": null,
            "overflow_y": null,
            "padding": null,
            "right": null,
            "top": null,
            "visibility": null,
            "width": null
          }
        },
        "b574094aa6f64f608e3c37e71e4e1158": {
          "model_module": "@jupyter-widgets/controls",
          "model_name": "ProgressStyleModel",
          "model_module_version": "1.5.0",
          "state": {
            "_model_module": "@jupyter-widgets/controls",
            "_model_module_version": "1.5.0",
            "_model_name": "ProgressStyleModel",
            "_view_count": null,
            "_view_module": "@jupyter-widgets/base",
            "_view_module_version": "1.2.0",
            "_view_name": "StyleView",
            "bar_color": null,
            "description_width": ""
          }
        },
        "4990fc0888ed4658aeb44e7564d90882": {
          "model_module": "@jupyter-widgets/base",
          "model_name": "LayoutModel",
          "model_module_version": "1.2.0",
          "state": {
            "_model_module": "@jupyter-widgets/base",
            "_model_module_version": "1.2.0",
            "_model_name": "LayoutModel",
            "_view_count": null,
            "_view_module": "@jupyter-widgets/base",
            "_view_module_version": "1.2.0",
            "_view_name": "LayoutView",
            "align_content": null,
            "align_items": null,
            "align_self": null,
            "border": null,
            "bottom": null,
            "display": null,
            "flex": null,
            "flex_flow": null,
            "grid_area": null,
            "grid_auto_columns": null,
            "grid_auto_flow": null,
            "grid_auto_rows": null,
            "grid_column": null,
            "grid_gap": null,
            "grid_row": null,
            "grid_template_areas": null,
            "grid_template_columns": null,
            "grid_template_rows": null,
            "height": null,
            "justify_content": null,
            "justify_items": null,
            "left": null,
            "margin": null,
            "max_height": null,
            "max_width": null,
            "min_height": null,
            "min_width": null,
            "object_fit": null,
            "object_position": null,
            "order": null,
            "overflow": null,
            "overflow_x": null,
            "overflow_y": null,
            "padding": null,
            "right": null,
            "top": null,
            "visibility": null,
            "width": null
          }
        },
        "de73ca93e4f94feb8bfd4736acbb93b2": {
          "model_module": "@jupyter-widgets/controls",
          "model_name": "DescriptionStyleModel",
          "model_module_version": "1.5.0",
          "state": {
            "_model_module": "@jupyter-widgets/controls",
            "_model_module_version": "1.5.0",
            "_model_name": "DescriptionStyleModel",
            "_view_count": null,
            "_view_module": "@jupyter-widgets/base",
            "_view_module_version": "1.2.0",
            "_view_name": "StyleView",
            "description_width": ""
          }
        },
        "3f63f133962a45fa9d000d822db36fc1": {
          "model_module": "@jupyter-widgets/controls",
          "model_name": "HBoxModel",
          "model_module_version": "1.5.0",
          "state": {
            "_dom_classes": [],
            "_model_module": "@jupyter-widgets/controls",
            "_model_module_version": "1.5.0",
            "_model_name": "HBoxModel",
            "_view_count": null,
            "_view_module": "@jupyter-widgets/controls",
            "_view_module_version": "1.5.0",
            "_view_name": "HBoxView",
            "box_style": "",
            "children": [
              "IPY_MODEL_b63324447b6243a0963d127511d68187",
              "IPY_MODEL_7faf4b0f3bea4ecb83e7b8286f173d83",
              "IPY_MODEL_5baed6dda5ae46408075e7c7fe13c387"
            ],
            "layout": "IPY_MODEL_57e6087e24c1472aa4aee5666e477326"
          }
        },
        "b63324447b6243a0963d127511d68187": {
          "model_module": "@jupyter-widgets/controls",
          "model_name": "HTMLModel",
          "model_module_version": "1.5.0",
          "state": {
            "_dom_classes": [],
            "_model_module": "@jupyter-widgets/controls",
            "_model_module_version": "1.5.0",
            "_model_name": "HTMLModel",
            "_view_count": null,
            "_view_module": "@jupyter-widgets/controls",
            "_view_module_version": "1.5.0",
            "_view_name": "HTMLView",
            "description": "",
            "description_tooltip": null,
            "layout": "IPY_MODEL_fa86f90c489b4642a36a8b138b097694",
            "placeholder": "​",
            "style": "IPY_MODEL_6d6826100fca453c996b60dff9c577f3",
            "value": "Map: 100%"
          }
        },
        "7faf4b0f3bea4ecb83e7b8286f173d83": {
          "model_module": "@jupyter-widgets/controls",
          "model_name": "FloatProgressModel",
          "model_module_version": "1.5.0",
          "state": {
            "_dom_classes": [],
            "_model_module": "@jupyter-widgets/controls",
            "_model_module_version": "1.5.0",
            "_model_name": "FloatProgressModel",
            "_view_count": null,
            "_view_module": "@jupyter-widgets/controls",
            "_view_module_version": "1.5.0",
            "_view_name": "ProgressView",
            "bar_style": "success",
            "description": "",
            "description_tooltip": null,
            "layout": "IPY_MODEL_6c2cf122e28441998ea805cfef3e4131",
            "max": 4206188,
            "min": 0,
            "orientation": "horizontal",
            "style": "IPY_MODEL_5e14d265503447ee8dc879d69a09959f",
            "value": 4206188
          }
        },
        "5baed6dda5ae46408075e7c7fe13c387": {
          "model_module": "@jupyter-widgets/controls",
          "model_name": "HTMLModel",
          "model_module_version": "1.5.0",
          "state": {
            "_dom_classes": [],
            "_model_module": "@jupyter-widgets/controls",
            "_model_module_version": "1.5.0",
            "_model_name": "HTMLModel",
            "_view_count": null,
            "_view_module": "@jupyter-widgets/controls",
            "_view_module_version": "1.5.0",
            "_view_name": "HTMLView",
            "description": "",
            "description_tooltip": null,
            "layout": "IPY_MODEL_615d8dd47a174e07ae324ae618db7475",
            "placeholder": "​",
            "style": "IPY_MODEL_b684865910c94e469a0d0cfc47c734c9",
            "value": " 4206188/4206188 [04:12&lt;00:00, 17938.13 examples/s]"
          }
        },
        "57e6087e24c1472aa4aee5666e477326": {
          "model_module": "@jupyter-widgets/base",
          "model_name": "LayoutModel",
          "model_module_version": "1.2.0",
          "state": {
            "_model_module": "@jupyter-widgets/base",
            "_model_module_version": "1.2.0",
            "_model_name": "LayoutModel",
            "_view_count": null,
            "_view_module": "@jupyter-widgets/base",
            "_view_module_version": "1.2.0",
            "_view_name": "LayoutView",
            "align_content": null,
            "align_items": null,
            "align_self": null,
            "border": null,
            "bottom": null,
            "display": null,
            "flex": null,
            "flex_flow": null,
            "grid_area": null,
            "grid_auto_columns": null,
            "grid_auto_flow": null,
            "grid_auto_rows": null,
            "grid_column": null,
            "grid_gap": null,
            "grid_row": null,
            "grid_template_areas": null,
            "grid_template_columns": null,
            "grid_template_rows": null,
            "height": null,
            "justify_content": null,
            "justify_items": null,
            "left": null,
            "margin": null,
            "max_height": null,
            "max_width": null,
            "min_height": null,
            "min_width": null,
            "object_fit": null,
            "object_position": null,
            "order": null,
            "overflow": null,
            "overflow_x": null,
            "overflow_y": null,
            "padding": null,
            "right": null,
            "top": null,
            "visibility": null,
            "width": null
          }
        },
        "fa86f90c489b4642a36a8b138b097694": {
          "model_module": "@jupyter-widgets/base",
          "model_name": "LayoutModel",
          "model_module_version": "1.2.0",
          "state": {
            "_model_module": "@jupyter-widgets/base",
            "_model_module_version": "1.2.0",
            "_model_name": "LayoutModel",
            "_view_count": null,
            "_view_module": "@jupyter-widgets/base",
            "_view_module_version": "1.2.0",
            "_view_name": "LayoutView",
            "align_content": null,
            "align_items": null,
            "align_self": null,
            "border": null,
            "bottom": null,
            "display": null,
            "flex": null,
            "flex_flow": null,
            "grid_area": null,
            "grid_auto_columns": null,
            "grid_auto_flow": null,
            "grid_auto_rows": null,
            "grid_column": null,
            "grid_gap": null,
            "grid_row": null,
            "grid_template_areas": null,
            "grid_template_columns": null,
            "grid_template_rows": null,
            "height": null,
            "justify_content": null,
            "justify_items": null,
            "left": null,
            "margin": null,
            "max_height": null,
            "max_width": null,
            "min_height": null,
            "min_width": null,
            "object_fit": null,
            "object_position": null,
            "order": null,
            "overflow": null,
            "overflow_x": null,
            "overflow_y": null,
            "padding": null,
            "right": null,
            "top": null,
            "visibility": null,
            "width": null
          }
        },
        "6d6826100fca453c996b60dff9c577f3": {
          "model_module": "@jupyter-widgets/controls",
          "model_name": "DescriptionStyleModel",
          "model_module_version": "1.5.0",
          "state": {
            "_model_module": "@jupyter-widgets/controls",
            "_model_module_version": "1.5.0",
            "_model_name": "DescriptionStyleModel",
            "_view_count": null,
            "_view_module": "@jupyter-widgets/base",
            "_view_module_version": "1.2.0",
            "_view_name": "StyleView",
            "description_width": ""
          }
        },
        "6c2cf122e28441998ea805cfef3e4131": {
          "model_module": "@jupyter-widgets/base",
          "model_name": "LayoutModel",
          "model_module_version": "1.2.0",
          "state": {
            "_model_module": "@jupyter-widgets/base",
            "_model_module_version": "1.2.0",
            "_model_name": "LayoutModel",
            "_view_count": null,
            "_view_module": "@jupyter-widgets/base",
            "_view_module_version": "1.2.0",
            "_view_name": "LayoutView",
            "align_content": null,
            "align_items": null,
            "align_self": null,
            "border": null,
            "bottom": null,
            "display": null,
            "flex": null,
            "flex_flow": null,
            "grid_area": null,
            "grid_auto_columns": null,
            "grid_auto_flow": null,
            "grid_auto_rows": null,
            "grid_column": null,
            "grid_gap": null,
            "grid_row": null,
            "grid_template_areas": null,
            "grid_template_columns": null,
            "grid_template_rows": null,
            "height": null,
            "justify_content": null,
            "justify_items": null,
            "left": null,
            "margin": null,
            "max_height": null,
            "max_width": null,
            "min_height": null,
            "min_width": null,
            "object_fit": null,
            "object_position": null,
            "order": null,
            "overflow": null,
            "overflow_x": null,
            "overflow_y": null,
            "padding": null,
            "right": null,
            "top": null,
            "visibility": null,
            "width": null
          }
        },
        "5e14d265503447ee8dc879d69a09959f": {
          "model_module": "@jupyter-widgets/controls",
          "model_name": "ProgressStyleModel",
          "model_module_version": "1.5.0",
          "state": {
            "_model_module": "@jupyter-widgets/controls",
            "_model_module_version": "1.5.0",
            "_model_name": "ProgressStyleModel",
            "_view_count": null,
            "_view_module": "@jupyter-widgets/base",
            "_view_module_version": "1.2.0",
            "_view_name": "StyleView",
            "bar_color": null,
            "description_width": ""
          }
        },
        "615d8dd47a174e07ae324ae618db7475": {
          "model_module": "@jupyter-widgets/base",
          "model_name": "LayoutModel",
          "model_module_version": "1.2.0",
          "state": {
            "_model_module": "@jupyter-widgets/base",
            "_model_module_version": "1.2.0",
            "_model_name": "LayoutModel",
            "_view_count": null,
            "_view_module": "@jupyter-widgets/base",
            "_view_module_version": "1.2.0",
            "_view_name": "LayoutView",
            "align_content": null,
            "align_items": null,
            "align_self": null,
            "border": null,
            "bottom": null,
            "display": null,
            "flex": null,
            "flex_flow": null,
            "grid_area": null,
            "grid_auto_columns": null,
            "grid_auto_flow": null,
            "grid_auto_rows": null,
            "grid_column": null,
            "grid_gap": null,
            "grid_row": null,
            "grid_template_areas": null,
            "grid_template_columns": null,
            "grid_template_rows": null,
            "height": null,
            "justify_content": null,
            "justify_items": null,
            "left": null,
            "margin": null,
            "max_height": null,
            "max_width": null,
            "min_height": null,
            "min_width": null,
            "object_fit": null,
            "object_position": null,
            "order": null,
            "overflow": null,
            "overflow_x": null,
            "overflow_y": null,
            "padding": null,
            "right": null,
            "top": null,
            "visibility": null,
            "width": null
          }
        },
        "b684865910c94e469a0d0cfc47c734c9": {
          "model_module": "@jupyter-widgets/controls",
          "model_name": "DescriptionStyleModel",
          "model_module_version": "1.5.0",
          "state": {
            "_model_module": "@jupyter-widgets/controls",
            "_model_module_version": "1.5.0",
            "_model_name": "DescriptionStyleModel",
            "_view_count": null,
            "_view_module": "@jupyter-widgets/base",
            "_view_module_version": "1.2.0",
            "_view_name": "StyleView",
            "description_width": ""
          }
        }
      }
    }
  },
  "cells": [
    {
      "cell_type": "code",
      "execution_count": 13,
      "metadata": {
        "id": "GbjGKLEbtCs-",
        "colab": {
          "base_uri": "https://localhost:8080/"
        },
        "outputId": "62bd4d25-8a1a-4513-f6c8-78671bb795e0"
      },
      "outputs": [
        {
          "output_type": "stream",
          "name": "stdout",
          "text": [
            "Requirement already satisfied: datasets in /usr/local/lib/python3.10/dist-packages (2.19.1)\n",
            "Requirement already satisfied: filelock in /usr/local/lib/python3.10/dist-packages (from datasets) (3.14.0)\n",
            "Requirement already satisfied: numpy>=1.17 in /usr/local/lib/python3.10/dist-packages (from datasets) (1.25.2)\n",
            "Requirement already satisfied: pyarrow>=12.0.0 in /usr/local/lib/python3.10/dist-packages (from datasets) (14.0.2)\n",
            "Requirement already satisfied: pyarrow-hotfix in /usr/local/lib/python3.10/dist-packages (from datasets) (0.6)\n",
            "Requirement already satisfied: dill<0.3.9,>=0.3.0 in /usr/local/lib/python3.10/dist-packages (from datasets) (0.3.8)\n",
            "Requirement already satisfied: pandas in /usr/local/lib/python3.10/dist-packages (from datasets) (2.0.3)\n",
            "Requirement already satisfied: requests>=2.19.0 in /usr/local/lib/python3.10/dist-packages (from datasets) (2.31.0)\n",
            "Requirement already satisfied: tqdm>=4.62.1 in /usr/local/lib/python3.10/dist-packages (from datasets) (4.66.4)\n",
            "Requirement already satisfied: xxhash in /usr/local/lib/python3.10/dist-packages (from datasets) (3.4.1)\n",
            "Requirement already satisfied: multiprocess in /usr/local/lib/python3.10/dist-packages (from datasets) (0.70.16)\n",
            "Requirement already satisfied: fsspec[http]<=2024.3.1,>=2023.1.0 in /usr/local/lib/python3.10/dist-packages (from datasets) (2023.6.0)\n",
            "Requirement already satisfied: aiohttp in /usr/local/lib/python3.10/dist-packages (from datasets) (3.9.5)\n",
            "Requirement already satisfied: huggingface-hub>=0.21.2 in /usr/local/lib/python3.10/dist-packages (from datasets) (0.23.0)\n",
            "Requirement already satisfied: packaging in /usr/local/lib/python3.10/dist-packages (from datasets) (24.0)\n",
            "Requirement already satisfied: pyyaml>=5.1 in /usr/local/lib/python3.10/dist-packages (from datasets) (6.0.1)\n",
            "Requirement already satisfied: aiosignal>=1.1.2 in /usr/local/lib/python3.10/dist-packages (from aiohttp->datasets) (1.3.1)\n",
            "Requirement already satisfied: attrs>=17.3.0 in /usr/local/lib/python3.10/dist-packages (from aiohttp->datasets) (23.2.0)\n",
            "Requirement already satisfied: frozenlist>=1.1.1 in /usr/local/lib/python3.10/dist-packages (from aiohttp->datasets) (1.4.1)\n",
            "Requirement already satisfied: multidict<7.0,>=4.5 in /usr/local/lib/python3.10/dist-packages (from aiohttp->datasets) (6.0.5)\n",
            "Requirement already satisfied: yarl<2.0,>=1.0 in /usr/local/lib/python3.10/dist-packages (from aiohttp->datasets) (1.9.4)\n",
            "Requirement already satisfied: async-timeout<5.0,>=4.0 in /usr/local/lib/python3.10/dist-packages (from aiohttp->datasets) (4.0.3)\n",
            "Requirement already satisfied: typing-extensions>=3.7.4.3 in /usr/local/lib/python3.10/dist-packages (from huggingface-hub>=0.21.2->datasets) (4.11.0)\n",
            "Requirement already satisfied: charset-normalizer<4,>=2 in /usr/local/lib/python3.10/dist-packages (from requests>=2.19.0->datasets) (3.3.2)\n",
            "Requirement already satisfied: idna<4,>=2.5 in /usr/local/lib/python3.10/dist-packages (from requests>=2.19.0->datasets) (3.7)\n",
            "Requirement already satisfied: urllib3<3,>=1.21.1 in /usr/local/lib/python3.10/dist-packages (from requests>=2.19.0->datasets) (2.0.7)\n",
            "Requirement already satisfied: certifi>=2017.4.17 in /usr/local/lib/python3.10/dist-packages (from requests>=2.19.0->datasets) (2024.2.2)\n",
            "Requirement already satisfied: python-dateutil>=2.8.2 in /usr/local/lib/python3.10/dist-packages (from pandas->datasets) (2.8.2)\n",
            "Requirement already satisfied: pytz>=2020.1 in /usr/local/lib/python3.10/dist-packages (from pandas->datasets) (2023.4)\n",
            "Requirement already satisfied: tzdata>=2022.1 in /usr/local/lib/python3.10/dist-packages (from pandas->datasets) (2024.1)\n",
            "Requirement already satisfied: six>=1.5 in /usr/local/lib/python3.10/dist-packages (from python-dateutil>=2.8.2->pandas->datasets) (1.16.0)\n"
          ]
        }
      ],
      "source": [
        "!pip install datasets"
      ]
    },
    {
      "cell_type": "code",
      "source": [
        "\n",
        "from datasets import load_dataset\n",
        "\n",
        "my_dataset = load_dataset(\"shahidul034/text_generation_model_data8\")"
      ],
      "metadata": {
        "id": "s0E6-Qa5tgTn",
        "colab": {
          "base_uri": "https://localhost:8080/"
        },
        "outputId": "43d1df7a-9242-428f-9cbe-cc51b1f96e5e"
      },
      "execution_count": 12,
      "outputs": [
        {
          "output_type": "stream",
          "name": "stderr",
          "text": [
            "Repo card metadata block was not found. Setting CardData to empty.\n",
            "WARNING:huggingface_hub.repocard:Repo card metadata block was not found. Setting CardData to empty.\n"
          ]
        }
      ]
    },
    {
      "cell_type": "code",
      "source": [
        "my_dataset\n",
        "my_dataset = my_dataset['train']\n",
        "\n",
        "print(len(my_dataset))"
      ],
      "metadata": {
        "id": "YToAgbzt5_ig",
        "colab": {
          "base_uri": "https://localhost:8080/"
        },
        "outputId": "e2182472-1c0e-441d-c0f2-f991ff2fb018"
      },
      "execution_count": 16,
      "outputs": [
        {
          "output_type": "stream",
          "name": "stdout",
          "text": [
            "4206188\n"
          ]
        }
      ]
    },
    {
      "cell_type": "code",
      "source": [
        "def filter_rows(row):\n",
        "    words = row['content'].split()\n",
        "    return len(words) <= 5\n"
      ],
      "metadata": {
        "id": "KnmH3bC9tmkF"
      },
      "execution_count": 17,
      "outputs": []
    },
    {
      "cell_type": "code",
      "source": [
        "filtered_dataset = my_dataset.filter(filter_rows)\n",
        "print(len(filtered_dataset))\n",
        "# dd = dataset.map(add_prefix, batch_size=4, batched=True)\n",
        "\n",
        "print(my_dataset[:1])\n",
        "print(filtered_dataset[1:2])"
      ],
      "metadata": {
        "colab": {
          "base_uri": "https://localhost:8080/",
          "height": 121,
          "referenced_widgets": [
            "6b605f2b414b4a7aa59bd87c9d0ca2ae",
            "e86477f2361948809d00180958f59cc7",
            "22a22e95ac58468daed1bcd96265ed42",
            "6abbd477a72a416c897ee85242e3c9cb",
            "fe4538057bbe4dad94292a4f73ee27eb",
            "e56ec36d4f074412ac932514606788bd",
            "ad51cf97234b4bc29ae9f910cbf16f76",
            "7ca93e96d428490a963a59fe6f1d3b60",
            "b574094aa6f64f608e3c37e71e4e1158",
            "4990fc0888ed4658aeb44e7564d90882",
            "de73ca93e4f94feb8bfd4736acbb93b2"
          ]
        },
        "id": "imVeE7PfuO_L",
        "outputId": "12664473-02e1-4e88-a514-4822e80d3d61"
      },
      "execution_count": 18,
      "outputs": [
        {
          "output_type": "display_data",
          "data": {
            "text/plain": [
              "Filter:   0%|          | 0/4206188 [00:00<?, ? examples/s]"
            ],
            "application/vnd.jupyter.widget-view+json": {
              "version_major": 2,
              "version_minor": 0,
              "model_id": "6b605f2b414b4a7aa59bd87c9d0ca2ae"
            }
          },
          "metadata": {}
        },
        {
          "output_type": "stream",
          "name": "stdout",
          "text": [
            "1478575\n",
            "{'content': ['সাংবাদিকদের উপর হামলার প্রতিবাদে কাজিপুরে মানববন্ধন নির্বাচনী ব্যবস্থা প্রবর্তনে এবি পার্টির গোল টেবিল আলোচনা জ্বালানি তেলের দাম নির্ধারণ করতে হাইকোর্টের রুল বেলকুচিতে ভোট শেষে ভবনের পিছনে পাওয়া গেলো সিল মারা ব্যালট ও রেজাল্ট সিট সাবেক যুবলীগ নেতা খলিলুল্লাহ আজাদ মিল্টনের বিরুদ্ধে অভিযোগের পাহাড় কমিউনিটি ক্লিনিকে সপ্তাহে ২দিনে ১হাজার জনসাধারণ পাচ্ছেন কোভিড-১৯ ভ্যাকসিন রফিকুল ইসলামের মৃত্যুতে জাতি গর্বিত সন্তানকে হারালো : বাংলাদেশ ন্যাপ গণতন্ত্রের জন্য গণমাধ্যম অনস্বীকার্য : স্পিকার কাল থেকে পলিথিনমুক্ত হচ্ছে চট্টগ্রামের তিন কাঁচাবাজার ব্রাহ্মণবাড়িয়ার ৭ বাড়িতে টাঙানো হবে লাল পতাকা']}\n",
            "{'content': ['অনলাইন ডেস্ক: ']}\n"
          ]
        }
      ]
    },
    {
      "cell_type": "code",
      "source": [
        "sharded_dd = filtered_dataset.shard(num_shards=10, index=0)\n",
        "print(len(filtered_dataset))\n",
        "print(len(sharded_dd))\n"
      ],
      "metadata": {
        "id": "27Kl_EU8yMdP",
        "colab": {
          "base_uri": "https://localhost:8080/"
        },
        "outputId": "8ce6bb9b-c326-4c37-cc1e-61199fbdf5fb"
      },
      "execution_count": 20,
      "outputs": [
        {
          "output_type": "stream",
          "name": "stdout",
          "text": [
            "1478575\n",
            "147858\n"
          ]
        }
      ]
    },
    {
      "cell_type": "code",
      "source": [
        "import string\n",
        "\n",
        "def remove_punctuation(row):\n",
        "    row['content'] = row['content'].translate(str.maketrans('', '', string.punctuation))\n",
        "    return row\n"
      ],
      "metadata": {
        "id": "DPUxuuN65dRK"
      },
      "execution_count": 21,
      "outputs": []
    },
    {
      "cell_type": "code",
      "source": [
        "processed_data = my_dataset.map(remove_punctuation)\n",
        "\n",
        "print(processed_data[:1])"
      ],
      "metadata": {
        "colab": {
          "base_uri": "https://localhost:8080/",
          "height": 86,
          "referenced_widgets": [
            "3f63f133962a45fa9d000d822db36fc1",
            "b63324447b6243a0963d127511d68187",
            "7faf4b0f3bea4ecb83e7b8286f173d83",
            "5baed6dda5ae46408075e7c7fe13c387",
            "57e6087e24c1472aa4aee5666e477326",
            "fa86f90c489b4642a36a8b138b097694",
            "6d6826100fca453c996b60dff9c577f3",
            "6c2cf122e28441998ea805cfef3e4131",
            "5e14d265503447ee8dc879d69a09959f",
            "615d8dd47a174e07ae324ae618db7475",
            "b684865910c94e469a0d0cfc47c734c9"
          ]
        },
        "id": "KQtFpVId60J7",
        "outputId": "05dee00d-e69e-42f6-c606-27de616689cf"
      },
      "execution_count": 22,
      "outputs": [
        {
          "output_type": "display_data",
          "data": {
            "text/plain": [
              "Map:   0%|          | 0/4206188 [00:00<?, ? examples/s]"
            ],
            "application/vnd.jupyter.widget-view+json": {
              "version_major": 2,
              "version_minor": 0,
              "model_id": "3f63f133962a45fa9d000d822db36fc1"
            }
          },
          "metadata": {}
        },
        {
          "output_type": "stream",
          "name": "stdout",
          "text": [
            "{'content': ['সাংবাদিকদের উপর হামলার প্রতিবাদে কাজিপুরে মানববন্ধন নির্বাচনী ব্যবস্থা প্রবর্তনে এবি পার্টির গোল টেবিল আলোচনা জ্বালানি তেলের দাম নির্ধারণ করতে হাইকোর্টের রুল বেলকুচিতে ভোট শেষে ভবনের পিছনে পাওয়া গেলো সিল মারা ব্যালট ও রেজাল্ট সিট সাবেক যুবলীগ নেতা খলিলুল্লাহ আজাদ মিল্টনের বিরুদ্ধে অভিযোগের পাহাড় কমিউনিটি ক্লিনিকে সপ্তাহে ২দিনে ১হাজার জনসাধারণ পাচ্ছেন কোভিড১৯ ভ্যাকসিন রফিকুল ইসলামের মৃত্যুতে জাতি গর্বিত সন্তানকে হারালো  বাংলাদেশ ন্যাপ গণতন্ত্রের জন্য গণমাধ্যম অনস্বীকার্য  স্পিকার কাল থেকে পলিথিনমুক্ত হচ্ছে চট্টগ্রামের তিন কাঁচাবাজার ব্রাহ্মণবাড়িয়ার ৭ বাড়িতে টাঙানো হবে লাল পতাকা']}\n"
          ]
        }
      ]
    },
    {
      "cell_type": "code",
      "source": [
        "for i in range(10):\n",
        "    print(sharded_dd[i*5:(i+1)*5])\n",
        "    print(processed_data[i*5:(i+1)*5])\n",
        "    print(\"\\n\")\n"
      ],
      "metadata": {
        "colab": {
          "base_uri": "https://localhost:8080/"
        },
        "id": "01ZGN8yEe9hc",
        "outputId": "06c7de48-746e-43e2-955a-f30d5f1a2ce7"
      },
      "execution_count": 25,
      "outputs": [
        {
          "output_type": "stream",
          "name": "stdout",
          "text": [
            "{'content': ['আল্লাহর কাছে ক্ষমা লাভের উপায়', 'তাকওয়া বা আল্লাহভীতি অর্জন করা', ' ', 'লেটেস্ট নিউজ', '# ']}\n",
            "{'content': ['সাংবাদিকদের উপর হামলার প্রতিবাদে কাজিপুরে মানববন্ধন নির্বাচনী ব্যবস্থা প্রবর্তনে এবি পার্টির গোল টেবিল আলোচনা জ্বালানি তেলের দাম নির্ধারণ করতে হাইকোর্টের রুল বেলকুচিতে ভোট শেষে ভবনের পিছনে পাওয়া গেলো সিল মারা ব্যালট ও রেজাল্ট সিট সাবেক যুবলীগ নেতা খলিলুল্লাহ আজাদ মিল্টনের বিরুদ্ধে অভিযোগের পাহাড় কমিউনিটি ক্লিনিকে সপ্তাহে ২দিনে ১হাজার জনসাধারণ পাচ্ছেন কোভিড১৯ ভ্যাকসিন রফিকুল ইসলামের মৃত্যুতে জাতি গর্বিত সন্তানকে হারালো  বাংলাদেশ ন্যাপ গণতন্ত্রের জন্য গণমাধ্যম অনস্বীকার্য  স্পিকার কাল থেকে পলিথিনমুক্ত হচ্ছে চট্টগ্রামের তিন কাঁচাবাজার ব্রাহ্মণবাড়িয়ার ৭ বাড়িতে টাঙানো হবে লাল পতাকা', 'ইসলাম ঢাকা ধর্ম শিরোনামঃ সারা বাংলা', 'আল্লাহর কাছে ক্ষমা লাভের উপায়', 'অনলাইন ডেস্ক ', 'আপডেটের সময়  শনিবার ৬ নভেম্বর ২০২১ ']}\n",
            "\n",
            "\n",
            "{'content': ['পূর্ব মেদিনীপুর', 'লাইফস্টাইল', ' কিন্তু বাড়ি ফেরেন না', ' ', 'বাণিজ্য ও অর্থনীতি']}\n",
            "{'content': ['৬০ বার দেখা হয়েছে', 'ক্ষমা মানে অপরাধ মার্জনা করে দেওয়া', ' আল্লাহর কাছে প্রত্যেকেরই ক্ষমা প্রার্থনা করা অপরিহার্য কর্তব্য', ' কারণ স্বয়ং আল্লাহ ক্ষমা প্রার্থনার নির্দেশ দিয়েছেন তোমরা ক্ষমা প্রার্থনা করো আল্লাহর কাছে', ' আল্লাহ ক্ষমাশীল পরম দয়ালু']}\n",
            "\n",
            "\n",
            "{'content': [' ', ' ', '...বিস্তারিত', 'বুলগেরিয়ার বাসে আগুন, নিহত ৪৫', 'নাম অভিধান ও বিবিধ']}\n",
            "{'content': [' সুরা মুজ্জাম্মিল আয়াত  ২০', 'আল্লাহর কাছে একনিষ্ঠ চিত্তে ক্ষমা প্রার্থনা করলে তিনি ক্ষমা করে দেবেন', ' কেননা আল্লাহপাক কোরআনের শতাধিক আয়াতে নিজেকে ক্ষমাশীল বলে ঘোষণা করেছেন', ' মহান আল্লাহ বলেন আমার বান্দাদের জানিয়ে দাও যে নিশ্চয়ই আমি অত্যন্ত ক্ষমাশীল ও অপরিসীম দয়ালু', '  সুরা হিজর আয়াত  ৪৯']}\n",
            "\n",
            "\n",
            "{'content': ['হাদিসের ধরন অনুসারে পড়ুন', 'আল্লাহর ৯৯ নাম ও অর্থ', ' [আদওয়াউল বায়ান]', ' , ', ' ']}\n",
            "{'content': ['অন্য আয়াতে তিনি বলেন এর পরেও কি তারা আল্লাহর দিকে ফিরে আসবে না অর্থাৎ তাওবা করবে না এবং তাঁর কাছে ক্ষমা প্রার্থনা করবে না অথচ আল্লাহ ক্ষমাশীল ও দয়াবান', ' সুরা মায়েদা আয়াত  ৭৪', 'বান্দার প্রতি আল্লাহর দয়া ও অনুগ্রহ অসীম', ' আল্লাহ বলেন বলো হে আমার বান্দারা তোমরা যারা নিজেদের প্রতি জুলুম করেছ আল্লাহর অনুগ্রহ থেকে নিরাশ হয়ো না', ' আল্লাহ সমুদয় পাপ ক্ষমা করে দেবেন']}\n",
            "\n",
            "\n",
            "{'content': [' অবশেষে ভাগ্য ফিরল', 'সরকারি অন্যান্য পোর্টাল দেখুন', ' ', '/ئۇيغۇرچه', 'আন্তর্জাতিক ()']}\n",
            "{'content': [' তিনি তো ক্ষমাশীল পরম দয়ালু', ' সুরা জুমার আয়াত  ৫৩', 'ক্ষমা লাভের উপায়', 'কোরআন ও হাদিসে আল্লাহর ক্ষমা লাভ করার অনেক উপায় বর্ণিত হয়েছে', ' তন্মধ্যে কয়েকটি উপায় এখানে উল্লেখ করা হলো  ']}\n",
            "\n",
            "\n",
            "{'content': ['মতামত চাকরি', 'শিক্ষা এর সর্বশেষ', ' রাজশাহী এখন সিল্ক হেভেন', ' 🎆এপ নাম: -...', 'কানাডার উদ্দেশ্যে টিকিট কেটেছেন মুরাদ']}\n",
            "{'content': ['ঈমান ও নেক কাজের মাধ্যমে আল্লাহর নৈকট্য অর্জন করা', 'যারা আল্লাহর প্রতি ঈমান আনবে ও নেক আমল করবে আল্লাহ তাদের ক্ষমার প্রতিশ্রুতি দিয়েছেন', ' আল্লাহ বলেন যারা ঈমান আনে ও সত্কর্ম করে আল্লাহ তাদের প্রতিশ্রুতি দিয়েছেন ক্ষমা ও মহাপুরস্কারের', '  সুরা ফাতহ আয়াত  ২৯ সুরা মায়েদা আয়াত  ৯', 'অন্যত্র তিনি বলেন আর যারা ঈমান আনে ও সত্কর্মসমূহ সম্পাদন করে তাদের জন্য আছে ক্ষমা ও মহাপুরস্কার']}\n",
            "\n",
            "\n",
            "{'content': ['', ' (@.)', 'ধামরাইয়ে শীতার্তদের মাঝে কম্বল বিতরন', 'শীর্ষ সংবাদ:', 'নভেম্বর ২৩, ২০২১ ৬:২২ অপরাহ্ণ']}\n",
            "{'content': ['  সুরা ফাতির আয়াত  ৭', 'আল্লাহর কাছে ক্ষমা প্রার্থনা করা', 'আল্লাহর ক্ষমা লাভের জন্য তাঁর কাছে ক্ষমা প্রার্থনা করতে হবে', 'আল্লাহ বলেন আর আল্লাহর কাছে ক্ষমা প্রার্থনা করো', ' নিশ্চয়ই আল্লাহ ক্ষমাশীল ও দয়াবান']}\n",
            "\n",
            "\n",
            "{'content': [' ', 'লাইফস্টাইল', '#', '18 ', ' ']}\n",
            "{'content': ['  সুরা বাকারা আয়াত  ১৯৯', 'তিনি আরো বলেন যে কেউ দুষ্কর্ম করে অথবা স্বীয় জীবনের প্রতি অবিচার করে অতঃপর আল্লাহর কাছে ক্ষমাপ্রার্থী হয় সে আল্লাহকে ক্ষমাশীল ও দয়ালু পাবে', '  সুরা নিসা আয়াত  ১১০', 'অন্যত্র আল্লাহ বলেন ক্ষমা প্রার্থনা করো তোমার জন্য এবং মুমিন নরনারীদের পাপের জন্য', ' আল্লাহ তোমাদের গতিবিধি ও অবস্থান সম্বন্ধে অবগত আছেন']}\n",
            "\n",
            "\n",
            "{'content': ['পদক্ষেপ 5: বিশ্লেষণ', 'উল্লিখিত বৃদ্ধি কৌশল ব্যবহার করুন', '', ' , ', 'লুকানো বিষয়শ্রেণী:']}\n",
            "{'content': ['  সুরা মুহাম্মদ আয়াত  ১৯', 'অন্য হাদিসে রাসুল সা বলেন আল্লাহ বলেন হে আদম সন্তান যত দিন তুমি আমাকে ডাকবে এবং আমার কাছে ক্ষমার আশা রাখবে আমি তোমাকে ক্ষমা করব তোমার অবস্থা যাই হোক না কেন', ' আমি কারো পরোয়া করি না', ' হে আদম সন্তান তোমার গুনাহ যদি আকাশ পর্যন্তও পৌঁছায় অতঃপর তুমি আমার কাছে ক্ষমা চাও আমি তোমাকে ক্ষমা করে দেব', ' আমি ক্ষমা করার ব্যাপারে কারো পরোয়া করি না']}\n",
            "\n",
            "\n",
            "{'content': ['এ বিভাগের অন্যান্য সংবাদ', ' 20, 2021', ' 2, 2020', ' 15, 2019', 'সরকারি অন্যান্য পোর্টাল দেখুন']}\n",
            "{'content': [' হে আদম সন্তান তুমি যদি পৃথিবী পরিমাণ গুনাহ নিয়ে আমার দরবারে উপস্থিত হও এবং আমার সঙ্গে কাউকে শরিক না করে আমার সামনে আসো আমি পৃথিবী পরিমাণ ক্ষমা নিয়ে তোমার কাছে উপস্থিত হব', ' তিরমিজি হাদিস ৩৫৪০', 'আল্লাহর ক্ষমা লাভের অন্যতম মাধ্যম হচ্ছে পাপ করার পরই তাঁর কাছে অনুতপ্ত হয়ে তাওবা করা', ' আল্লাহ বলেন তিনিই তাঁর বান্দাদের তাওবা কবুল করেন ও পাপ মোচন করেন', '  সুরা শুরা আয়াত  ২৫']}\n",
            "\n",
            "\n"
          ]
        }
      ]
    }
  ]
}